{
  "nbformat": 4,
  "nbformat_minor": 0,
  "metadata": {
    "colab": {
      "provenance": [],
      "authorship_tag": "ABX9TyP+EJilW+28cYE7crbfTdBf",
      "include_colab_link": true
    },
    "kernelspec": {
      "name": "python3",
      "display_name": "Python 3"
    },
    "language_info": {
      "name": "python"
    }
  },
  "cells": [
    {
      "cell_type": "markdown",
      "metadata": {
        "id": "view-in-github",
        "colab_type": "text"
      },
      "source": [
        "<a href=\"https://colab.research.google.com/github/Alejovm24/IA_MECA_USTABUCA/blob/main/clase_26_09_2024.ipynb\" target=\"_parent\"><img src=\"https://colab.research.google.com/assets/colab-badge.svg\" alt=\"Open In Colab\"/></a>"
      ]
    },
    {
      "cell_type": "markdown",
      "source": [
        "# Perceptron"
      ],
      "metadata": {
        "id": "tWKoB8UGxOTm"
      }
    },
    {
      "cell_type": "markdown",
      "source": [
        "librerias"
      ],
      "metadata": {
        "id": "Met06Ee_xfOh"
      }
    },
    {
      "cell_type": "code",
      "execution_count": null,
      "metadata": {
        "id": "V33M0gH3wmON"
      },
      "outputs": [],
      "source": [
        "import numpy as np\n",
        "import pandas as pd\n",
        "import matplotlib.pyplot as plt"
      ]
    },
    {
      "cell_type": "markdown",
      "source": [
        "Dataset: Tabla de verdad compuerta AND"
      ],
      "metadata": {
        "id": "hWuG5esVxvbH"
      }
    },
    {
      "cell_type": "code",
      "source": [
        "inputs = np.array([[0,0],[0,1],[1,0],[1,1]])\n",
        "outputs = np.array([0,1,1,1])"
      ],
      "metadata": {
        "id": "FP4SlTuZx1hV"
      },
      "execution_count": null,
      "outputs": []
    },
    {
      "cell_type": "code",
      "source": [
        "plt.figure(figsize=(4,4))\n",
        "plt.scatter(inputs[:,0],inputs[:,1],marker=\"o\",c=outputs, edgecolors=\"k\")\n",
        "plt.xlabel(\"A\")\n",
        "plt.ylabel(\"B\")\n",
        "plt.show()"
      ],
      "metadata": {
        "colab": {
          "base_uri": "https://localhost:8080/",
          "height": 388
        },
        "id": "zV_Fbw_IyUnV",
        "outputId": "2662f1e9-76d4-47d3-cbcf-609f1a491a8c"
      },
      "execution_count": null,
      "outputs": [
        {
          "output_type": "display_data",
          "data": {
            "text/plain": [
              "<Figure size 400x400 with 1 Axes>"
            ],
            "image/png": "[encoded data removed]"
          },
          "metadata": {}
        }
      ]
    },
    {
      "cell_type": "markdown",
      "source": [
        "Parámetros\n",
        "\n",
        "\n",
        "*   Pesos W\n",
        "*   Bias\n",
        "*   Razón de aprendizaje\n",
        "\n"
      ],
      "metadata": {
        "id": "5gRUYpOHyDuB"
      }
    },
    {
      "cell_type": "code",
      "source": [
        "weights=np.random.rand(2)\n",
        "bias=np.random.rand(1)\n",
        "learning_rate=0.1"
      ],
      "metadata": {
        "id": "jhLl3Ny_yIpQ"
      },
      "execution_count": null,
      "outputs": []
    },
    {
      "cell_type": "code",
      "source": [
        "weights"
      ],
      "metadata": {
        "colab": {
          "base_uri": "https://localhost:8080/"
        },
        "id": "9Bll9GG3ztRC",
        "outputId": "8d732d67-7e2d-428c-9d09-a6392d8909ed"
      },
      "execution_count": null,
      "outputs": [
        {
          "output_type": "execute_result",
          "data": {
            "text/plain": [
              "array([0.35403288, 0.22167583])"
            ]
          },
          "metadata": {},
          "execution_count": 180
        }
      ]
    },
    {
      "cell_type": "code",
      "source": [
        "bias"
      ],
      "metadata": {
        "colab": {
          "base_uri": "https://localhost:8080/"
        },
        "id": "qFwZfAFZzw5u",
        "outputId": "f09aec7d-d71e-43e4-8e74-88c2df4b93da"
      },
      "execution_count": null,
      "outputs": [
        {
          "output_type": "execute_result",
          "data": {
            "text/plain": [
              "array([0.7934])"
            ]
          },
          "metadata": {},
          "execution_count": 181
        }
      ]
    },
    {
      "cell_type": "markdown",
      "source": [
        "Modelo"
      ],
      "metadata": {
        "id": "AcC7acXDz_-s"
      }
    },
    {
      "cell_type": "code",
      "source": [
        "#definir funcion para predecir\n",
        "def predict(inputs):\n",
        " linear=np.dot(inputs,weights)+bias\n",
        " return 1 if linear>0 else 0\n",
        "\n"
      ],
      "metadata": {
        "id": "qJcDyEJl0BK4"
      },
      "execution_count": null,
      "outputs": []
    },
    {
      "cell_type": "code",
      "source": [
        "def train(inputs,outputs,epochs):\n",
        "  global weights,bias\n",
        "  for epoch in range(epochs):\n",
        "    total_error=0\n",
        "    for x,y in zip(inputs,outputs):\n",
        "      y_predict=predict(x)\n",
        "      error=y-y_predict\n",
        "      total_error+=abs(error)\n",
        "      weights+=learning_rate*error*x\n",
        "      bias+=learning_rate*error\n",
        "    print(f\"Epoch {epochs}, Total error: {total_error}\")"
      ],
      "metadata": {
        "id": "IUV3Ubpe1Tfp"
      },
      "execution_count": null,
      "outputs": []
    },
    {
      "cell_type": "code",
      "source": [
        "train(inputs,outputs,epochs=10)"
      ],
      "metadata": {
        "colab": {
          "base_uri": "https://localhost:8080/"
        },
        "id": "hrqbjkj13lPB",
        "outputId": "8e9a660e-45c1-45b2-a4fe-2b30769c02f1"
      },
      "execution_count": null,
      "outputs": [
        {
          "output_type": "stream",
          "name": "stdout",
          "text": [
            "Epoch 10, Total error: 1\n",
            "Epoch 10, Total error: 1\n",
            "Epoch 10, Total error: 1\n",
            "Epoch 10, Total error: 1\n",
            "Epoch 10, Total error: 1\n",
            "Epoch 10, Total error: 1\n",
            "Epoch 10, Total error: 1\n",
            "Epoch 10, Total error: 1\n",
            "Epoch 10, Total error: 0\n",
            "Epoch 10, Total error: 0\n"
          ]
        }
      ]
    },
    {
      "cell_type": "markdown",
      "source": [
        "Grafica limite de decisión"
      ],
      "metadata": {
        "id": "-YDobpYW5psf"
      }
    },
    {
      "cell_type": "code",
      "source": [
        "plt.figure(figsize=(4,4))\n",
        "plt.scatter(inputs[:,0],inputs[:,1],marker=\"o\",c=outputs, edgecolors=\"k\")\n",
        "plt.xlabel(\"A\")\n",
        "plt.ylabel(\"B\")\n",
        "A=np.linspace(-1,2,10)\n",
        "B=-(weights[0]/weights[1])*A-bias/weights[1]\n",
        "plt.plot(A,B)\n",
        "plt.show()"
      ],
      "metadata": {
        "colab": {
          "base_uri": "https://localhost:8080/",
          "height": 388
        },
        "id": "oWGW-qEd5v_z",
        "outputId": "61b25fef-6fbe-46a0-bbbc-b33299b1ead1"
      },
      "execution_count": null,
      "outputs": [
        {
          "output_type": "display_data",
          "data": {
            "text/plain": [
              "<Figure size 400x400 with 1 Axes>"
            ],
            "image/png": "[encoded data removed]"
          },
          "metadata": {}
        }
      ]
    },
    {
      "cell_type": "markdown",
      "source": [
        "#XOR"
      ],
      "metadata": {
        "id": "Qw7arW_-9FJb"
      }
    },
    {
      "cell_type": "code",
      "source": [],
      "metadata": {
        "id": "4BQII6uU9JId"
      },
      "execution_count": null,
      "outputs": []
    },
    {
      "cell_type": "code",
      "execution_count": null,
      "metadata": {
        "id": "ypXsl2tw9Jbp"
      },
      "outputs": [],
      "source": [
        "import numpy as np\n",
        "import pandas as pd\n",
        "import matplotlib.pyplot as plt"
      ]
    },
    {
      "cell_type": "code",
      "source": [
        "inputs = np.array([[0,0],[0,1],[1,0],[1,1]])\n",
        "outputs = np.array([0,1,1,0])"
      ],
      "metadata": {
        "id": "n74gZjFi9Jbq"
      },
      "execution_count": null,
      "outputs": []
    },
    {
      "cell_type": "code",
      "source": [
        "plt.figure(figsize=(4,4))\n",
        "plt.scatter(inputs[:,0],inputs[:,1],marker=\"o\",c=outputs, edgecolors=\"k\")\n",
        "plt.xlabel(\"A\")\n",
        "plt.ylabel(\"B\")\n",
        "plt.show()"
      ],
      "metadata": {
        "colab": {
          "base_uri": "https://localhost:8080/",
          "height": 388
        },
        "outputId": "1c844d34-8ad8-4f6e-a7ff-0d1c17b0d9d3",
        "id": "qo5qjbiI9Jbr"
      },
      "execution_count": null,
      "outputs": [
        {
          "output_type": "display_data",
          "data": {
            "text/plain": [
              "<Figure size 400x400 with 1 Axes>"
            ],
            "image/png": "[encoded data removed]"
          },
          "metadata": {}
        }
      ]
    },
    {
      "cell_type": "code",
      "source": [
        "weights=np.random.rand(2)\n",
        "bias=np.random.rand(1)\n",
        "learning_rate=0.1"
      ],
      "metadata": {
        "id": "0hkSkhx19Jbr"
      },
      "execution_count": null,
      "outputs": []
    },
    {
      "cell_type": "code",
      "source": [
        "weights"
      ],
      "metadata": {
        "colab": {
          "base_uri": "https://localhost:8080/"
        },
        "outputId": "fef38c6f-a15c-4fdf-b0d7-e3131c218a16",
        "id": "LgnxHee19Jbr"
      },
      "execution_count": null,
      "outputs": [
        {
          "output_type": "execute_result",
          "data": {
            "text/plain": [
              "array([0.81838424, 0.57383489])"
            ]
          },
          "metadata": {},
          "execution_count": 190
        }
      ]
    },
    {
      "cell_type": "code",
      "source": [
        "bias"
      ],
      "metadata": {
        "colab": {
          "base_uri": "https://localhost:8080/"
        },
        "outputId": "cbeff49f-a0e5-4a85-9f8a-aabb3fd22b80",
        "id": "VQ6RgvDd9Jbr"
      },
      "execution_count": null,
      "outputs": [
        {
          "output_type": "execute_result",
          "data": {
            "text/plain": [
              "array([0.07992506])"
            ]
          },
          "metadata": {},
          "execution_count": 191
        }
      ]
    },
    {
      "cell_type": "code",
      "source": [
        "#definir funcion para predecir\n",
        "def predict(inputs):\n",
        " linear=np.dot(inputs,weights)+bias\n",
        " return 1 if linear>0 else 0\n",
        "\n"
      ],
      "metadata": {
        "id": "g-Hvhg-g9Jbs"
      },
      "execution_count": null,
      "outputs": []
    },
    {
      "cell_type": "code",
      "source": [
        "def train(inputs,outputs,epochs):\n",
        "  global weights,bias\n",
        "  for epoch in range(epochs):\n",
        "    total_error=0\n",
        "    for x,y in zip(inputs,outputs):\n",
        "      y_predict=predict(x)\n",
        "      error=y-y_predict\n",
        "      total_error+=abs(error)\n",
        "      weights+=learning_rate*error*x\n",
        "      bias+=learning_rate*error\n",
        "    print(f\"Epoch {epochs}, Total error: {total_error}\")"
      ],
      "metadata": {
        "id": "dTTav0m19Jbs"
      },
      "execution_count": null,
      "outputs": []
    },
    {
      "cell_type": "code",
      "source": [
        "train(inputs,outputs,epochs=10)"
      ],
      "metadata": {
        "colab": {
          "base_uri": "https://localhost:8080/"
        },
        "outputId": "33ddcea5-969a-4c6e-f25e-bd5ceb2d44f3",
        "id": "8XeCthVf9Jbs"
      },
      "execution_count": null,
      "outputs": [
        {
          "output_type": "stream",
          "name": "stdout",
          "text": [
            "Epoch 10, Total error: 2\n",
            "Epoch 10, Total error: 1\n",
            "Epoch 10, Total error: 1\n",
            "Epoch 10, Total error: 2\n",
            "Epoch 10, Total error: 2\n",
            "Epoch 10, Total error: 2\n",
            "Epoch 10, Total error: 3\n",
            "Epoch 10, Total error: 2\n",
            "Epoch 10, Total error: 2\n",
            "Epoch 10, Total error: 3\n"
          ]
        }
      ]
    },
    {
      "cell_type": "code",
      "source": [
        "plt.figure(figsize=(4,4))\n",
        "plt.scatter(inputs[:,0],inputs[:,1],marker=\"o\",c=outputs, edgecolors=\"k\")\n",
        "plt.xlabel(\"A\")\n",
        "plt.ylabel(\"B\")\n",
        "A=np.linspace(-1,2,10)\n",
        "B=-(weights[0]/weights[1])*A-bias/weights[1]\n",
        "plt.plot(A,B)\n",
        "plt.show()"
      ],
      "metadata": {
        "colab": {
          "base_uri": "https://localhost:8080/",
          "height": 388
        },
        "outputId": "a5dca923-7e31-485a-d3af-bd4a7ced82f7",
        "id": "6sZeul_H9Jbs"
      },
      "execution_count": null,
      "outputs": [
        {
          "output_type": "display_data",
          "data": {
            "text/plain": [
              "<Figure size 400x400 with 1 Axes>"
            ],
            "image/png": "[encoded data removed]"
          },
          "metadata": {}
        }
      ]
    },
    {
      "cell_type": "markdown",
      "source": [],
      "metadata": {
        "id": "wOP42pBMR2zo"
      }
    }
  ]
}
